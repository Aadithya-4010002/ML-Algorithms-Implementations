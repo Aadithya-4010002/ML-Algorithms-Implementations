{
 "cells": [
  {
   "cell_type": "code",
   "execution_count": 33,
   "id": "5b7f63f4-150e-46c1-9dd0-23a8ad3034e1",
   "metadata": {},
   "outputs": [],
   "source": [
    "import pandas as pd\n",
    "from sklearn.model_selection import train_test_split\n",
    "from sklearn.linear_model import LinearRegression\n",
    "from sklearn.metrics import mean_squared_error, r2_score"
   ]
  },
  {
   "cell_type": "code",
   "execution_count": 34,
   "id": "7c20ebca-affd-4e15-9db2-7d85ed6967bc",
   "metadata": {},
   "outputs": [],
   "source": [
    "data=pd.read_csv(\"/Users/aadithyaram/Downloads/dataset.csv\")"
   ]
  },
  {
   "cell_type": "code",
   "execution_count": 35,
   "id": "e4dddb60-9a17-4104-96a5-cf51abf4ae2a",
   "metadata": {},
   "outputs": [],
   "source": [
    "data=data.drop(['Unnamed: 0', 'track_id','duration_ms', 'explicit', 'danceability', 'energy','key', 'loudness', 'mode','album_name'],axis=1)\n"
   ]
  },
  {
   "cell_type": "code",
   "execution_count": 36,
   "id": "5b373026-6d18-49bd-b176-cb68db6cf35a",
   "metadata": {},
   "outputs": [],
   "source": [
    "def mean(values):\n",
    "    return sum(values)/float(len(values))"
   ]
  },
  {
   "cell_type": "code",
   "execution_count": 37,
   "id": "caef0631-fe0b-436a-902c-e95a45eceb4f",
   "metadata": {},
   "outputs": [],
   "source": [
    "def variance(values,mean):\n",
    "    return sum([(x-mean)**2 for x in values])"
   ]
  },
  {
   "cell_type": "code",
   "execution_count": 38,
   "id": "661104bc-5cd2-4cf2-8f28-a32cb5f6a3de",
   "metadata": {},
   "outputs": [],
   "source": [
    "def covariance(x,mean_x,y,mean_y):\n",
    "    covar=0.0\n",
    "    for i in range(len(x)):\n",
    "        covar+=(x[i]-mean_x) * (y[i]-mean_y)\n",
    "    return covar"
   ]
  },
  {
   "cell_type": "code",
   "execution_count": 39,
   "id": "7d30d6a0-98f8-475a-935a-d9fae8d4d6fe",
   "metadata": {},
   "outputs": [],
   "source": [
    "def coefficients(dataset):\n",
    "    b1=covariance(x,mean_x,y,mean_y)/variance(x,mean_x)\n",
    "    b0=mean_y-b1*mean_x\n",
    "    return[b0,b1]"
   ]
  },
  {
   "cell_type": "code",
   "execution_count": 40,
   "id": "5558f916-101c-493e-8c92-8c76bc8c9795",
   "metadata": {},
   "outputs": [],
   "source": [
    "def simple_linear_regression(train,test):\n",
    "    for row in test:\n",
    "        ytest = b0 + b1 * row[0]\n",
    "    return ytest"
   ]
  },
  {
   "cell_type": "code",
   "execution_count": 41,
   "id": "3d412fac-e22b-46da-a99b-33066e60ee54",
   "metadata": {},
   "outputs": [],
   "source": [
    "dataset=[[30,18],[40,70],[18,45],[60,70],[15,30],[90,68],[75,90]]\n",
    "x=[row[0] for row in dataset]\n",
    "y=[row[1] for row in dataset]\n",
    "mean_x=mean(x)\n",
    "mean_y=mean(y)"
   ]
  },
  {
   "cell_type": "code",
   "execution_count": 42,
   "id": "246404d8-e7d4-44e2-9977-77922e983a79",
   "metadata": {},
   "outputs": [
    {
     "name": "stdout",
     "output_type": "stream",
     "text": [
      "x stats:mean=46.857 variance=5004.857\n",
      "y stats:mean=55.857 variance=3932.857\n"
     ]
    }
   ],
   "source": [
    "variance_x=variance(x,mean_x)\n",
    "variance_y=variance(y,mean_y)\n",
    "print('x stats:mean=%.3f variance=%.3f' % (mean_x,variance_x))\n",
    "print('y stats:mean=%.3f variance=%.3f' % (mean_y,variance_y))"
   ]
  },
  {
   "cell_type": "code",
   "execution_count": 43,
   "id": "bc8839fd-7cfa-4d28-94bc-5485b8ce609f",
   "metadata": {},
   "outputs": [
    {
     "name": "stdout",
     "output_type": "stream",
     "text": [
      "covariance: 3348.857\n"
     ]
    }
   ],
   "source": [
    "covar = covariance(x,mean_x,y,mean_y)\n",
    "print('covariance: %.3f' % (covar))"
   ]
  },
  {
   "cell_type": "code",
   "execution_count": 44,
   "id": "5052a0e1-4743-486e-afee-a0d672a3ad78",
   "metadata": {},
   "outputs": [
    {
     "name": "stdout",
     "output_type": "stream",
     "text": [
      "coefficients:b0=24.504,b1=0.669\n",
      "Regression equation of y on x : y=24.504+0.669x \n"
     ]
    }
   ],
   "source": [
    "b0,b1 = coefficients(dataset)\n",
    "print('coefficients:b0=%.3f,b1=%.3f' % (b0,b1))\n",
    "print('Regression equation of y on x : y=%.3f+%.3fx '% (b0, b1))"
   ]
  },
  {
   "cell_type": "code",
   "execution_count": 45,
   "id": "23a64655-e3d8-41da-b2d7-cffc1cd6fb2b",
   "metadata": {},
   "outputs": [
    {
     "name": "stdout",
     "output_type": "stream",
     "text": [
      "Value of y when x=55 is 61.306\n"
     ]
    }
   ],
   "source": [
    "test=[[55]]\n",
    "result=simple_linear_regression(dataset,test)\n",
    "print('Value of y when x=55 is %.3f' % (result))"
   ]
  },
  {
   "cell_type": "code",
   "execution_count": null,
   "id": "8cd00e92-286a-421a-8b5f-84921640dbf4",
   "metadata": {},
   "outputs": [],
   "source": [
    "import numpy as np\n",
    "from sklearn.linear_model import LinearRegression\n",
    "dataset=[[30,18],[40,70],[18,45],[60,70],[15,30],[90,68],[75,90]]\n",
    "x=np.array([row[0] for row in dataset]).reshape(-1,1)\n",
    "y=np.array([row[1] for row in dataset])\n",
    "model = LinearRegression()\n",
    "model.fit(x, y)"
   ]
  },
  {
   "cell_type": "code",
   "execution_count": null,
   "id": "644feea7-0c32-493f-98ee-93dc118822f4",
   "metadata": {},
   "outputs": [],
   "source": [
    "r_sq = model.score(x, y)\n",
    "print('coefficient of determination:', r_sq)"
   ]
  },
  {
   "cell_type": "code",
   "execution_count": null,
   "id": "a6b95195-c2b4-4f12-bde5-ff244a535a0e",
   "metadata": {},
   "outputs": [],
   "source": [
    "r_sq = model.score(x, y)\n",
    "print('coefficient of determination:', r_sq)\n",
    "print('intercept:', model.intercept_)\n",
    "print('slope:', model.coef_)"
   ]
  },
  {
   "cell_type": "code",
   "execution_count": null,
   "id": "72ee4d87-7d9c-46c9-8752-f35b4321ad19",
   "metadata": {},
   "outputs": [],
   "source": []
  }
 ],
 "metadata": {
  "kernelspec": {
   "display_name": "Python 3 (ipykernel)",
   "language": "python",
   "name": "python3"
  },
  "language_info": {
   "codemirror_mode": {
    "name": "ipython",
    "version": 3
   },
   "file_extension": ".py",
   "mimetype": "text/x-python",
   "name": "python",
   "nbconvert_exporter": "python",
   "pygments_lexer": "ipython3",
   "version": "3.11.4"
  }
 },
 "nbformat": 4,
 "nbformat_minor": 5
}
