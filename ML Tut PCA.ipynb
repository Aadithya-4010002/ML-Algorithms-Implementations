{
 "cells": [
  {
   "cell_type": "code",
   "execution_count": 71,
   "id": "5b7f63f4-150e-46c1-9dd0-23a8ad3034e1",
   "metadata": {},
   "outputs": [],
   "source": [
    "import pandas as pd\n",
    "from sklearn.preprocessing import StandardScaler\n",
    "from sklearn.decomposition import PCA"
   ]
  },
  {
   "cell_type": "code",
   "execution_count": 72,
   "id": "7c20ebca-affd-4e15-9db2-7d85ed6967bc",
   "metadata": {},
   "outputs": [],
   "source": [
    "data=pd.read_csv(\"/Users/aadithyaram/Downloads/dataset.csv\")"
   ]
  },
  {
   "cell_type": "code",
   "execution_count": 74,
   "id": "e4dddb60-9a17-4104-96a5-cf51abf4ae2a",
   "metadata": {},
   "outputs": [],
   "source": [
    "numeric_features = data.drop('popularity', axis=1).select_dtypes(include=[int, float])\n"
   ]
  },
  {
   "cell_type": "code",
   "execution_count": null,
   "id": "a4ca475c-f546-4ceb-be9c-74b95fa0aaae",
   "metadata": {},
   "outputs": [],
   "source": [
    "scaler = StandardScaler()\n",
    "scaled_features = scaler.fit_transform(numeric_features)\n",
    "# Apply PCA\n",
    "pca = PCA(n_components=2)  \n",
    "principal_components = pca.fit_transform(scaled_features)\n",
    "principal_df = pd.DataFrame(data=principal_components, columns=['PC1', 'PC2'])\n",
    "In [7]:\n",
    "# Concatenate the principal components with the target variable\n",
    "final_df = pd.concat([principal_df, df['Outcome']], axis=1)\n",
    "In [8]:\n",
    "# Print the result\n",
    "print(final_df)"
   ]
  }
 ],
 "metadata": {
  "kernelspec": {
   "display_name": "Python 3 (ipykernel)",
   "language": "python",
   "name": "python3"
  },
  "language_info": {
   "codemirror_mode": {
    "name": "ipython",
    "version": 3
   },
   "file_extension": ".py",
   "mimetype": "text/x-python",
   "name": "python",
   "nbconvert_exporter": "python",
   "pygments_lexer": "ipython3",
   "version": "3.11.4"
  }
 },
 "nbformat": 4,
 "nbformat_minor": 5
}
